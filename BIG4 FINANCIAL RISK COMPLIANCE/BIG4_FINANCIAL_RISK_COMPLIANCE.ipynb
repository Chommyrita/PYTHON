{
 "cells": [
  {
   "cell_type": "code",
   "execution_count": 1,
   "id": "9584e158-d45a-46e8-b557-6e0f100f7242",
   "metadata": {},
   "outputs": [],
   "source": [
    "import pandas as pd\n",
    "import numpy as np\n",
    "import matplotlib.pyplot as plt"
   ]
  },
  {
   "cell_type": "code",
   "execution_count": 2,
   "id": "55748477-9562-431b-85d9-b557fbab3357",
   "metadata": {},
   "outputs": [],
   "source": [
    "# Load the CSV file\n",
    "d4 = pd.read_csv(\"big4_financial_risk_compliance.csv\")"
   ]
  },
  {
   "cell_type": "code",
   "execution_count": 3,
   "id": "9ef68de1-fe6a-450f-9887-7594792fdf72",
   "metadata": {},
   "outputs": [
    {
     "name": "stdout",
     "output_type": "stream",
     "text": [
      "    Year      Firm_Name  Total_Audit_Engagements  High_Risk_Cases  Compliance_Violations  Fraud_Cases_Detected Industry_Affected  Total_Revenue_Impact AI_Used_for_Auditing  Employee_Workload  Audit_Effectiveness_Score  Client_Satisfaction_Score\n",
      "0   2020            PwC                     2829               51                    123                    39        Healthcare                114.24                   No                 57                        5.8                        8.4\n",
      "1   2022       Deloitte                     3589              185                     30                    60        Healthcare                156.98                  Yes                 58                        5.3                        6.7\n",
      "2   2020            PwC                     2438              212                    124                    97        Healthcare                131.83                   No                 76                        6.1                        6.2\n",
      "3   2021            PwC                     2646              397                     55                    97        Healthcare                229.11                   No                 60                        5.1                        8.6\n",
      "4   2020            PwC                     2680              216                     99                    46        Healthcare                 48.00                   No                 51                        9.1                        6.7\n",
      "5   2023       Deloitte                      818              448                     10                    30           Finance                438.89                   No                 73                        5.3                        7.1\n",
      "6   2022       Deloitte                     1199              148                    114                    11            Retail                468.82                   No                 53                        9.6                        6.3\n",
      "7   2020            PwC                     4092              500                    152                    69              Tech                 53.85                  Yes                 80                        9.4                        9.5\n",
      "8   2021            PwC                     4156              362                     53                    95           Finance                318.79                   No                 56                        6.0                        6.0\n",
      "9   2021  Ernst & Young                     2490               74                    144                    22            Retail                461.33                  Yes                 66                        6.8                        7.3\n",
      "10  2020           KPMG                     1497              330                     10                    10           Finance                258.49                  Yes                 59                        8.3                        8.0\n",
      "11  2024  Ernst & Young                     2712              408                    186                    61        Healthcare                224.92                  Yes                 78                        9.5                        8.9\n",
      "12  2024       Deloitte                     2885              469                    125                    92        Healthcare                418.49                   No                 58                        9.3                        7.7\n",
      "13  2023            PwC                     2267              164                    125                    42            Retail                445.62                  Yes                 58                        7.3                        7.7\n",
      "14  2020            PwC                     2333              358                     48                    17            Retail                388.50                  Yes                 40                       10.0                        8.3\n",
      "15  2021       Deloitte                     3490              127                     17                    62           Finance                495.19                  Yes                 52                        8.4                        7.5\n",
      "16  2020  Ernst & Young                     3264              435                     82                    18              Tech                 61.17                  Yes                 76                        5.3                        7.1\n",
      "17  2022       Deloitte                     4813              249                     81                    64            Retail                182.90                   No                 67                        9.8                        7.5\n",
      "18  2022       Deloitte                     2804              273                     87                    36        Healthcare                243.85                   No                 46                        6.6                        9.5\n",
      "19  2021           KPMG                     2239               78                     30                    14              Tech                129.98                  Yes                 53                        8.0                        7.6\n",
      "20  2024       Deloitte                     1581              247                    181                    72            Retail                221.42                   No                 56                        5.6                        7.9\n",
      "21  2025       Deloitte                      760              406                     65                    69           Finance                140.29                  Yes                 40                        5.1                        7.5\n",
      "22  2023            PwC                     2238              101                    184                    79            Retail                216.84                  Yes                 65                        7.0                        7.1\n",
      "23  2024  Ernst & Young                     1760              415                    183                    11        Healthcare                291.00                  Yes                 53                        8.2                        8.4\n",
      "24  2024            PwC                     4103              423                    179                    30        Healthcare                225.42                  Yes                 41                        6.7                        5.0\n",
      "25  2025            PwC                     4470               63                     49                    54              Tech                213.92                  Yes                 43                        5.8                        5.6\n",
      "26  2020           KPMG                     2515              362                    146                    94              Tech                447.14                   No                 63                        5.8                        5.0\n",
      "27  2025           KPMG                     3852              317                     65                    12            Retail                294.38                   No                 78                        6.2                        7.3\n",
      "28  2025  Ernst & Young                     4773              497                    186                    56           Finance                197.87                  Yes                 44                        9.4                        6.1\n",
      "29  2025  Ernst & Young                     3571               86                    181                    90            Retail                474.21                   No                 58                        7.4                        7.6\n",
      "30  2020       Deloitte                     2030              200                    169                    18        Healthcare                104.98                   No                 76                        5.2                        9.3\n",
      "31  2020  Ernst & Young                      811              398                     94                    94        Healthcare                438.45                  Yes                 66                        7.2                        9.6\n",
      "32  2023  Ernst & Young                     1727               59                    184                    20              Tech                249.68                   No                 50                        6.9                        8.8\n",
      "33  2024  Ernst & Young                     4481              258                    136                    32              Tech                156.76                   No                 53                        8.9                        5.1\n",
      "34  2022       Deloitte                     4287              158                     73                    66        Healthcare                 69.97                   No                 78                        8.3                        6.5\n",
      "35  2021           KPMG                     3560              302                     37                    42            Retail                 94.56                  Yes                 50                        9.2                        8.9\n",
      "36  2023            PwC                     3449              102                     61                    42           Finance                 33.46                  Yes                 77                        5.2                        9.2\n",
      "37  2024       Deloitte                     4324              483                    166                    26        Healthcare                284.84                   No                 40                        8.8                        6.2\n",
      "38  2022  Ernst & Young                     2245              435                     42                    13            Retail                265.76                  Yes                 67                        7.0                        5.5\n",
      "39  2021       Deloitte                      603               62                    100                    20              Tech                415.30                  Yes                 60                        5.3                        8.5\n",
      "40  2020            PwC                     3981              199                    134                    63              Tech                 52.64                  Yes                 63                        6.8                        8.9\n",
      "41  2021  Ernst & Young                     1119              325                     53                    40              Tech                307.88                  Yes                 71                        7.0                        6.4\n",
      "42  2023           KPMG                     3076              428                    138                    79            Retail                150.59                   No                 62                        8.8                        7.3\n",
      "43  2024           KPMG                     3958              442                    115                    94        Healthcare                468.13                   No                 63                        5.2                        5.2\n",
      "44  2022  Ernst & Young                     1578              122                    116                    48        Healthcare                172.00                  Yes                 61                        9.5                        7.6\n",
      "45  2020  Ernst & Young                     4570              284                    155                     6              Tech                389.37                   No                 52                        6.1                        6.1\n",
      "46  2025       Deloitte                      718              360                    193                    14            Retail                432.80                   No                 64                        7.3                        8.9\n",
      "47  2021       Deloitte                     4601               65                    196                    28              Tech                320.75                   No                 75                        7.7                        5.7\n",
      "48  2025            PwC                     4775              380                    139                    87           Finance                429.95                  Yes                 53                        8.8                        5.8\n",
      "49  2022           KPMG                     4340              208                     86                    70            Retail                178.86                  Yes                 57                        5.5                        7.6\n",
      "50  2021           KPMG                     4327              312                     94                    86           Finance                444.51                   No                 66                        9.9                        9.6\n",
      "51  2025       Deloitte                     1695              285                    137                    61              Tech                302.28                  Yes                 64                        9.1                        8.4\n",
      "52  2020       Deloitte                      995              354                    126                    25        Healthcare                160.31                   No                 68                        9.3                        6.2\n",
      "53  2023  Ernst & Young                     3101              398                    149                    36        Healthcare                483.07                   No                 60                        9.5                        9.9\n",
      "54  2021       Deloitte                     1992              313                     74                    93              Tech                110.06                   No                 61                        7.6                        7.5\n",
      "55  2025           KPMG                     2506              330                     55                    94        Healthcare                250.74                  Yes                 40                        7.5                        9.6\n",
      "56  2024  Ernst & Young                     2556              306                     45                    91           Finance                426.07                   No                 68                        5.3                        5.1\n",
      "57  2025       Deloitte                     4390              367                    167                    51              Tech                334.56                  Yes                 59                        7.8                        9.6\n",
      "58  2020            PwC                     4401              249                    126                    45           Finance                424.03                   No                 60                        8.2                        5.7\n",
      "59  2024       Deloitte                     1275              201                     20                   100            Retail                378.30                   No                 66                        8.5                        7.8\n",
      "60  2021           KPMG                     3630              208                     92                    24            Retail                440.90                  Yes                 48                        5.0                        5.4\n",
      "61  2020           KPMG                     2654              231                    185                    73            Retail                478.00                  Yes                 60                        9.2                        7.0\n",
      "62  2025  Ernst & Young                     1810               91                    151                    54            Retail                285.51                   No                 55                        5.9                        6.9\n",
      "63  2025       Deloitte                     2208              296                    198                    72            Retail                395.59                  Yes                 77                        6.0                        6.7\n",
      "64  2023           KPMG                     2133               52                    141                    50            Retail                 88.08                   No                 44                        9.8                        5.8\n",
      "65  2024       Deloitte                     2183              449                     25                    27           Finance                263.14                  Yes                 48                        9.0                        8.3\n",
      "66  2022           KPMG                     1924              487                    141                    33            Retail                307.61                   No                 68                        7.3                        8.8\n",
      "67  2022           KPMG                     4624              472                    142                    50           Finance                 65.00                  Yes                 46                        5.5                        5.7\n",
      "68  2024  Ernst & Young                     1825              377                     31                    80              Tech                193.07                   No                 74                        6.0                        9.5\n",
      "69  2021  Ernst & Young                     1069              222                    102                    11              Tech                497.06                   No                 54                        6.2                        6.6\n",
      "70  2023            PwC                     2283               58                    103                    82        Healthcare                168.15                  Yes                 59                        6.7                        5.6\n",
      "71  2024       Deloitte                     4784              382                     15                    73        Healthcare                268.67                   No                 59                        6.7                       10.0\n",
      "72  2020           KPMG                     2861              433                    139                    71            Retail                381.61                   No                 49                        9.2                        9.0\n",
      "73  2023           KPMG                     3616              330                     71                    67           Finance                130.85                  Yes                 75                        8.8                        5.4\n",
      "74  2025  Ernst & Young                     4452              345                     38                    82           Finance                291.77                  Yes                 78                        9.6                        7.4\n",
      "75  2021            PwC                     1078              395                     58                     5              Tech                139.48                  Yes                 62                        7.3                        5.9\n",
      "76  2020  Ernst & Young                     1286              391                     47                    60              Tech                 85.46                   No                 48                        6.5                        5.9\n",
      "77  2024            PwC                     1574              391                     19                    50              Tech                240.87                   No                 74                        8.3                        5.3\n",
      "78  2024            PwC                     1076               86                     67                    17            Retail                206.47                  Yes                 62                        7.9                        9.9\n",
      "79  2021       Deloitte                     3305              226                    132                    81              Tech                403.02                   No                 73                        5.5                        7.6\n",
      "80  2020       Deloitte                      912              481                    200                    20        Healthcare                 83.61                   No                 66                        8.6                        9.3\n",
      "81  2022  Ernst & Young                     1516              242                    134                    37            Retail                339.08                   No                 79                        5.6                        6.5\n",
      "82  2022           KPMG                     1012              302                    124                    35              Tech                276.30                   No                 73                        7.7                        5.3\n",
      "83  2023           KPMG                     3230              290                    121                    91            Retail                435.76                   No                 59                        7.2                        9.1\n",
      "84  2021           KPMG                     2503              425                     45                    62            Retail                228.15                   No                 69                        7.4                        6.5\n",
      "85  2020            PwC                     4946               78                     90                    66              Tech                106.93                   No                 40                        5.4                        8.7\n",
      "86  2025            PwC                     4606              221                    158                    90              Tech                382.67                   No                 45                        7.6                        6.1\n",
      "87  2025            PwC                     1771              158                     73                    33              Tech                485.64                  Yes                 68                        9.8                        8.4\n",
      "88  2024            PwC                     2676              176                     36                    82           Finance                362.31                  Yes                 56                        9.5                        7.9\n",
      "89  2022       Deloitte                      962              356                    155                    21           Finance                 54.07                  Yes                 60                        9.1                        5.9\n",
      "90  2020       Deloitte                     1925              189                     39                    52              Tech                118.92                   No                 70                        9.4                        6.4\n",
      "91  2023           KPMG                     2919              453                     35                    99              Tech                 95.68                  Yes                 47                        8.0                        5.1\n",
      "92  2022            PwC                     4595              481                    173                    54            Retail                454.65                   No                 48                        8.6                        6.5\n",
      "93  2021       Deloitte                      797              133                     46                    27           Finance                474.32                   No                 77                        6.3                        8.6\n",
      "94  2023  Ernst & Young                     4895              123                    132                    10              Tech                389.31                   No                 48                        9.3                        8.4\n",
      "95  2022           KPMG                     4179               77                     58                    69        Healthcare                 89.79                  Yes                 74                        7.6                        5.6\n",
      "96  2020  Ernst & Young                     2119              112                    153                    59              Tech                182.06                   No                 42                        8.4                        9.3\n",
      "97  2021       Deloitte                     3810              463                     35                    96        Healthcare                349.04                   No                 55                        6.4                        6.5\n",
      "98  2025       Deloitte                     1896              110                    151                    14           Finance                456.08                   No                 74                        8.7                        7.1\n",
      "99  2021            PwC                     4473              195                    199                    58           Finance                235.12                  Yes                 54                        6.4                        7.4\n"
     ]
    }
   ],
   "source": [
    "print(d4.to_string())"
   ]
  },
  {
   "cell_type": "code",
   "execution_count": 3,
   "id": "7a6af053-daa2-494b-9981-7e0773cdc3f4",
   "metadata": {},
   "outputs": [
    {
     "data": {
      "text/html": [
       "<div>\n",
       "<style scoped>\n",
       "    .dataframe tbody tr th:only-of-type {\n",
       "        vertical-align: middle;\n",
       "    }\n",
       "\n",
       "    .dataframe tbody tr th {\n",
       "        vertical-align: top;\n",
       "    }\n",
       "\n",
       "    .dataframe thead th {\n",
       "        text-align: right;\n",
       "    }\n",
       "</style>\n",
       "<table border=\"1\" class=\"dataframe\">\n",
       "  <thead>\n",
       "    <tr style=\"text-align: right;\">\n",
       "      <th></th>\n",
       "      <th>Year</th>\n",
       "      <th>Firm_Name</th>\n",
       "      <th>Total_Audit_Engagements</th>\n",
       "      <th>High_Risk_Cases</th>\n",
       "      <th>Compliance_Violations</th>\n",
       "      <th>Fraud_Cases_Detected</th>\n",
       "      <th>Industry_Affected</th>\n",
       "      <th>Total_Revenue_Impact</th>\n",
       "      <th>AI_Used_for_Auditing</th>\n",
       "      <th>Employee_Workload</th>\n",
       "      <th>Audit_Effectiveness_Score</th>\n",
       "      <th>Client_Satisfaction_Score</th>\n",
       "    </tr>\n",
       "  </thead>\n",
       "  <tbody>\n",
       "    <tr>\n",
       "      <th>0</th>\n",
       "      <td>2020</td>\n",
       "      <td>PwC</td>\n",
       "      <td>2829</td>\n",
       "      <td>51</td>\n",
       "      <td>123</td>\n",
       "      <td>39</td>\n",
       "      <td>Healthcare</td>\n",
       "      <td>114.24</td>\n",
       "      <td>No</td>\n",
       "      <td>57</td>\n",
       "      <td>5.8</td>\n",
       "      <td>8.4</td>\n",
       "    </tr>\n",
       "    <tr>\n",
       "      <th>1</th>\n",
       "      <td>2022</td>\n",
       "      <td>Deloitte</td>\n",
       "      <td>3589</td>\n",
       "      <td>185</td>\n",
       "      <td>30</td>\n",
       "      <td>60</td>\n",
       "      <td>Healthcare</td>\n",
       "      <td>156.98</td>\n",
       "      <td>Yes</td>\n",
       "      <td>58</td>\n",
       "      <td>5.3</td>\n",
       "      <td>6.7</td>\n",
       "    </tr>\n",
       "    <tr>\n",
       "      <th>2</th>\n",
       "      <td>2020</td>\n",
       "      <td>PwC</td>\n",
       "      <td>2438</td>\n",
       "      <td>212</td>\n",
       "      <td>124</td>\n",
       "      <td>97</td>\n",
       "      <td>Healthcare</td>\n",
       "      <td>131.83</td>\n",
       "      <td>No</td>\n",
       "      <td>76</td>\n",
       "      <td>6.1</td>\n",
       "      <td>6.2</td>\n",
       "    </tr>\n",
       "    <tr>\n",
       "      <th>3</th>\n",
       "      <td>2021</td>\n",
       "      <td>PwC</td>\n",
       "      <td>2646</td>\n",
       "      <td>397</td>\n",
       "      <td>55</td>\n",
       "      <td>97</td>\n",
       "      <td>Healthcare</td>\n",
       "      <td>229.11</td>\n",
       "      <td>No</td>\n",
       "      <td>60</td>\n",
       "      <td>5.1</td>\n",
       "      <td>8.6</td>\n",
       "    </tr>\n",
       "    <tr>\n",
       "      <th>4</th>\n",
       "      <td>2020</td>\n",
       "      <td>PwC</td>\n",
       "      <td>2680</td>\n",
       "      <td>216</td>\n",
       "      <td>99</td>\n",
       "      <td>46</td>\n",
       "      <td>Healthcare</td>\n",
       "      <td>48.00</td>\n",
       "      <td>No</td>\n",
       "      <td>51</td>\n",
       "      <td>9.1</td>\n",
       "      <td>6.7</td>\n",
       "    </tr>\n",
       "    <tr>\n",
       "      <th>...</th>\n",
       "      <td>...</td>\n",
       "      <td>...</td>\n",
       "      <td>...</td>\n",
       "      <td>...</td>\n",
       "      <td>...</td>\n",
       "      <td>...</td>\n",
       "      <td>...</td>\n",
       "      <td>...</td>\n",
       "      <td>...</td>\n",
       "      <td>...</td>\n",
       "      <td>...</td>\n",
       "      <td>...</td>\n",
       "    </tr>\n",
       "    <tr>\n",
       "      <th>95</th>\n",
       "      <td>2022</td>\n",
       "      <td>KPMG</td>\n",
       "      <td>4179</td>\n",
       "      <td>77</td>\n",
       "      <td>58</td>\n",
       "      <td>69</td>\n",
       "      <td>Healthcare</td>\n",
       "      <td>89.79</td>\n",
       "      <td>Yes</td>\n",
       "      <td>74</td>\n",
       "      <td>7.6</td>\n",
       "      <td>5.6</td>\n",
       "    </tr>\n",
       "    <tr>\n",
       "      <th>96</th>\n",
       "      <td>2020</td>\n",
       "      <td>Ernst &amp; Young</td>\n",
       "      <td>2119</td>\n",
       "      <td>112</td>\n",
       "      <td>153</td>\n",
       "      <td>59</td>\n",
       "      <td>Tech</td>\n",
       "      <td>182.06</td>\n",
       "      <td>No</td>\n",
       "      <td>42</td>\n",
       "      <td>8.4</td>\n",
       "      <td>9.3</td>\n",
       "    </tr>\n",
       "    <tr>\n",
       "      <th>97</th>\n",
       "      <td>2021</td>\n",
       "      <td>Deloitte</td>\n",
       "      <td>3810</td>\n",
       "      <td>463</td>\n",
       "      <td>35</td>\n",
       "      <td>96</td>\n",
       "      <td>Healthcare</td>\n",
       "      <td>349.04</td>\n",
       "      <td>No</td>\n",
       "      <td>55</td>\n",
       "      <td>6.4</td>\n",
       "      <td>6.5</td>\n",
       "    </tr>\n",
       "    <tr>\n",
       "      <th>98</th>\n",
       "      <td>2025</td>\n",
       "      <td>Deloitte</td>\n",
       "      <td>1896</td>\n",
       "      <td>110</td>\n",
       "      <td>151</td>\n",
       "      <td>14</td>\n",
       "      <td>Finance</td>\n",
       "      <td>456.08</td>\n",
       "      <td>No</td>\n",
       "      <td>74</td>\n",
       "      <td>8.7</td>\n",
       "      <td>7.1</td>\n",
       "    </tr>\n",
       "    <tr>\n",
       "      <th>99</th>\n",
       "      <td>2021</td>\n",
       "      <td>PwC</td>\n",
       "      <td>4473</td>\n",
       "      <td>195</td>\n",
       "      <td>199</td>\n",
       "      <td>58</td>\n",
       "      <td>Finance</td>\n",
       "      <td>235.12</td>\n",
       "      <td>Yes</td>\n",
       "      <td>54</td>\n",
       "      <td>6.4</td>\n",
       "      <td>7.4</td>\n",
       "    </tr>\n",
       "  </tbody>\n",
       "</table>\n",
       "<p>100 rows × 12 columns</p>\n",
       "</div>"
      ],
      "text/plain": [
       "    Year      Firm_Name  Total_Audit_Engagements  High_Risk_Cases  \\\n",
       "0   2020            PwC                     2829               51   \n",
       "1   2022       Deloitte                     3589              185   \n",
       "2   2020            PwC                     2438              212   \n",
       "3   2021            PwC                     2646              397   \n",
       "4   2020            PwC                     2680              216   \n",
       "..   ...            ...                      ...              ...   \n",
       "95  2022           KPMG                     4179               77   \n",
       "96  2020  Ernst & Young                     2119              112   \n",
       "97  2021       Deloitte                     3810              463   \n",
       "98  2025       Deloitte                     1896              110   \n",
       "99  2021            PwC                     4473              195   \n",
       "\n",
       "    Compliance_Violations  Fraud_Cases_Detected Industry_Affected  \\\n",
       "0                     123                    39        Healthcare   \n",
       "1                      30                    60        Healthcare   \n",
       "2                     124                    97        Healthcare   \n",
       "3                      55                    97        Healthcare   \n",
       "4                      99                    46        Healthcare   \n",
       "..                    ...                   ...               ...   \n",
       "95                     58                    69        Healthcare   \n",
       "96                    153                    59              Tech   \n",
       "97                     35                    96        Healthcare   \n",
       "98                    151                    14           Finance   \n",
       "99                    199                    58           Finance   \n",
       "\n",
       "    Total_Revenue_Impact AI_Used_for_Auditing  Employee_Workload  \\\n",
       "0                 114.24                   No                 57   \n",
       "1                 156.98                  Yes                 58   \n",
       "2                 131.83                   No                 76   \n",
       "3                 229.11                   No                 60   \n",
       "4                  48.00                   No                 51   \n",
       "..                   ...                  ...                ...   \n",
       "95                 89.79                  Yes                 74   \n",
       "96                182.06                   No                 42   \n",
       "97                349.04                   No                 55   \n",
       "98                456.08                   No                 74   \n",
       "99                235.12                  Yes                 54   \n",
       "\n",
       "    Audit_Effectiveness_Score  Client_Satisfaction_Score  \n",
       "0                         5.8                        8.4  \n",
       "1                         5.3                        6.7  \n",
       "2                         6.1                        6.2  \n",
       "3                         5.1                        8.6  \n",
       "4                         9.1                        6.7  \n",
       "..                        ...                        ...  \n",
       "95                        7.6                        5.6  \n",
       "96                        8.4                        9.3  \n",
       "97                        6.4                        6.5  \n",
       "98                        8.7                        7.1  \n",
       "99                        6.4                        7.4  \n",
       "\n",
       "[100 rows x 12 columns]"
      ]
     },
     "execution_count": 3,
     "metadata": {},
     "output_type": "execute_result"
    }
   ],
   "source": [
    "d4"
   ]
  },
  {
   "cell_type": "code",
   "execution_count": 8,
   "id": "0e34fbd9-93b5-4653-a1d1-6e303307b1ec",
   "metadata": {
    "scrolled": true
   },
   "outputs": [
    {
     "data": {
      "text/html": [
       "<div>\n",
       "<style scoped>\n",
       "    .dataframe tbody tr th:only-of-type {\n",
       "        vertical-align: middle;\n",
       "    }\n",
       "\n",
       "    .dataframe tbody tr th {\n",
       "        vertical-align: top;\n",
       "    }\n",
       "\n",
       "    .dataframe thead th {\n",
       "        text-align: right;\n",
       "    }\n",
       "</style>\n",
       "<table border=\"1\" class=\"dataframe\">\n",
       "  <thead>\n",
       "    <tr style=\"text-align: right;\">\n",
       "      <th></th>\n",
       "      <th>Year</th>\n",
       "      <th>Firm_Name</th>\n",
       "      <th>Total_Audit_Engagements</th>\n",
       "      <th>High_Risk_Cases</th>\n",
       "      <th>Compliance_Violations</th>\n",
       "      <th>Fraud_Cases_Detected</th>\n",
       "      <th>Industry_Affected</th>\n",
       "      <th>Total_Revenue_Impact</th>\n",
       "      <th>AI_Used_for_Auditing</th>\n",
       "      <th>Employee_Workload</th>\n",
       "      <th>Audit_Effectiveness_Score</th>\n",
       "      <th>Client_Satisfaction_Score</th>\n",
       "    </tr>\n",
       "  </thead>\n",
       "  <tbody>\n",
       "    <tr>\n",
       "      <th>0</th>\n",
       "      <td>2020</td>\n",
       "      <td>PwC</td>\n",
       "      <td>2829</td>\n",
       "      <td>51</td>\n",
       "      <td>123</td>\n",
       "      <td>39</td>\n",
       "      <td>Healthcare</td>\n",
       "      <td>114.24</td>\n",
       "      <td>No</td>\n",
       "      <td>57</td>\n",
       "      <td>5.8</td>\n",
       "      <td>8.4</td>\n",
       "    </tr>\n",
       "    <tr>\n",
       "      <th>1</th>\n",
       "      <td>2022</td>\n",
       "      <td>Deloitte</td>\n",
       "      <td>3589</td>\n",
       "      <td>185</td>\n",
       "      <td>30</td>\n",
       "      <td>60</td>\n",
       "      <td>Healthcare</td>\n",
       "      <td>156.98</td>\n",
       "      <td>Yes</td>\n",
       "      <td>58</td>\n",
       "      <td>5.3</td>\n",
       "      <td>6.7</td>\n",
       "    </tr>\n",
       "    <tr>\n",
       "      <th>2</th>\n",
       "      <td>2020</td>\n",
       "      <td>PwC</td>\n",
       "      <td>2438</td>\n",
       "      <td>212</td>\n",
       "      <td>124</td>\n",
       "      <td>97</td>\n",
       "      <td>Healthcare</td>\n",
       "      <td>131.83</td>\n",
       "      <td>No</td>\n",
       "      <td>76</td>\n",
       "      <td>6.1</td>\n",
       "      <td>6.2</td>\n",
       "    </tr>\n",
       "    <tr>\n",
       "      <th>3</th>\n",
       "      <td>2021</td>\n",
       "      <td>PwC</td>\n",
       "      <td>2646</td>\n",
       "      <td>397</td>\n",
       "      <td>55</td>\n",
       "      <td>97</td>\n",
       "      <td>Healthcare</td>\n",
       "      <td>229.11</td>\n",
       "      <td>No</td>\n",
       "      <td>60</td>\n",
       "      <td>5.1</td>\n",
       "      <td>8.6</td>\n",
       "    </tr>\n",
       "    <tr>\n",
       "      <th>4</th>\n",
       "      <td>2020</td>\n",
       "      <td>PwC</td>\n",
       "      <td>2680</td>\n",
       "      <td>216</td>\n",
       "      <td>99</td>\n",
       "      <td>46</td>\n",
       "      <td>Healthcare</td>\n",
       "      <td>48.00</td>\n",
       "      <td>No</td>\n",
       "      <td>51</td>\n",
       "      <td>9.1</td>\n",
       "      <td>6.7</td>\n",
       "    </tr>\n",
       "  </tbody>\n",
       "</table>\n",
       "</div>"
      ],
      "text/plain": [
       "   Year Firm_Name  Total_Audit_Engagements  High_Risk_Cases  \\\n",
       "0  2020       PwC                     2829               51   \n",
       "1  2022  Deloitte                     3589              185   \n",
       "2  2020       PwC                     2438              212   \n",
       "3  2021       PwC                     2646              397   \n",
       "4  2020       PwC                     2680              216   \n",
       "\n",
       "   Compliance_Violations  Fraud_Cases_Detected Industry_Affected  \\\n",
       "0                    123                    39        Healthcare   \n",
       "1                     30                    60        Healthcare   \n",
       "2                    124                    97        Healthcare   \n",
       "3                     55                    97        Healthcare   \n",
       "4                     99                    46        Healthcare   \n",
       "\n",
       "   Total_Revenue_Impact AI_Used_for_Auditing  Employee_Workload  \\\n",
       "0                114.24                   No                 57   \n",
       "1                156.98                  Yes                 58   \n",
       "2                131.83                   No                 76   \n",
       "3                229.11                   No                 60   \n",
       "4                 48.00                   No                 51   \n",
       "\n",
       "   Audit_Effectiveness_Score  Client_Satisfaction_Score  \n",
       "0                        5.8                        8.4  \n",
       "1                        5.3                        6.7  \n",
       "2                        6.1                        6.2  \n",
       "3                        5.1                        8.6  \n",
       "4                        9.1                        6.7  "
      ]
     },
     "execution_count": 8,
     "metadata": {},
     "output_type": "execute_result"
    }
   ],
   "source": [
    "d4.head()"
   ]
  },
  {
   "cell_type": "markdown",
   "id": "3873ee56-8ae2-4566-a380-af8104108490",
   "metadata": {},
   "source": [
    "# Check and handle missing data"
   ]
  },
  {
   "cell_type": "code",
   "execution_count": 9,
   "id": "641151c1-f547-4196-80aa-995227f8feec",
   "metadata": {},
   "outputs": [
    {
     "data": {
      "text/plain": [
       "Year                         0\n",
       "Firm_Name                    0\n",
       "Total_Audit_Engagements      0\n",
       "High_Risk_Cases              0\n",
       "Compliance_Violations        0\n",
       "Fraud_Cases_Detected         0\n",
       "Industry_Affected            0\n",
       "Total_Revenue_Impact         0\n",
       "AI_Used_for_Auditing         0\n",
       "Employee_Workload            0\n",
       "Audit_Effectiveness_Score    0\n",
       "Client_Satisfaction_Score    0\n",
       "dtype: int64"
      ]
     },
     "execution_count": 9,
     "metadata": {},
     "output_type": "execute_result"
    }
   ],
   "source": [
    "# check for missing values [find missing values in each columns]\n",
    "missing_values = d4.isnull().sum()\n",
    "missing_values"
   ]
  },
  {
   "cell_type": "code",
   "execution_count": 10,
   "id": "047b9a63-97fc-4753-b846-4f3c25045e5b",
   "metadata": {},
   "outputs": [
    {
     "name": "stdout",
     "output_type": "stream",
     "text": [
      "Series([], dtype: int64)\n"
     ]
    }
   ],
   "source": [
    "# show only columns where missing values exist\n",
    "print(missing_values[missing_values > 0])\n",
    "# This will tell you which columns have missing values and how many."
   ]
  },
  {
   "cell_type": "raw",
   "id": "6661a2d1-7b12-48c8-8b50-cbe1c84fdc2f",
   "metadata": {},
   "source": [
    "# Handle missing values\n",
    "# There are different ways depending on the situation:"
   ]
  },
  {
   "cell_type": "code",
   "execution_count": null,
   "id": "f6e7335d-3bd4-4f4a-b1da-09382bb4fa33",
   "metadata": {},
   "outputs": [],
   "source": [
    "# Drop rows with missing values\n",
    "d4_cleaned = d4.dropna()"
   ]
  },
  {
   "cell_type": "code",
   "execution_count": null,
   "id": "1adb93ec-8bf1-40df-86d3-eb702fa1f888",
   "metadata": {},
   "outputs": [],
   "source": [
    "# fill missing values with something\n",
    "# fill with a specific value (like 0,\"unknown\", or the mean):"
   ]
  },
  {
   "cell_type": "code",
   "execution_count": null,
   "id": "1a259e35-0d35-465a-9233-7e4489e7eabd",
   "metadata": {},
   "outputs": [],
   "source": [
    "# fill missing numeric values with 0\n",
    "d4.fillna(0,inplace=True)"
   ]
  },
  {
   "cell_type": "code",
   "execution_count": 11,
   "id": "94190ebb-e1fe-462f-8ee9-a18a20103f71",
   "metadata": {},
   "outputs": [
    {
     "name": "stdout",
     "output_type": "stream",
     "text": [
      "              Year  Total_Audit_Engagements  High_Risk_Cases  \\\n",
      "count   100.000000               100.000000       100.000000   \n",
      "mean   2022.320000              2784.520000       277.730000   \n",
      "std       1.780251              1281.863073       135.735174   \n",
      "min    2020.000000               603.000000        51.000000   \n",
      "25%    2021.000000              1768.250000       162.500000   \n",
      "50%    2022.000000              2650.000000       293.000000   \n",
      "75%    2024.000000              4008.750000       395.500000   \n",
      "max    2025.000000              4946.000000       500.000000   \n",
      "\n",
      "       Compliance_Violations  Fraud_Cases_Detected  Total_Revenue_Impact  \\\n",
      "count             100.000000            100.000000            100.000000   \n",
      "mean              105.480000             52.700000            272.539000   \n",
      "std                55.370101             28.311221            139.151401   \n",
      "min                10.000000              5.000000             33.460000   \n",
      "25%                54.500000             27.000000            155.217500   \n",
      "50%               114.500000             54.000000            264.450000   \n",
      "75%               149.500000             74.500000            406.090000   \n",
      "max               200.000000            100.000000            497.060000   \n",
      "\n",
      "       Employee_Workload  Audit_Effectiveness_Score  Client_Satisfaction_Score  \n",
      "count         100.000000                 100.000000                 100.000000  \n",
      "mean           60.250000                   7.490000                   7.339000  \n",
      "std            11.163048                   1.516209                   1.429127  \n",
      "min            40.000000                   5.000000                   5.000000  \n",
      "25%            52.750000                   6.100000                   6.100000  \n",
      "50%            60.000000                   7.450000                   7.350000  \n",
      "75%            68.000000                   8.825000                   8.525000  \n",
      "max            80.000000                  10.000000                  10.000000  \n"
     ]
    }
   ],
   "source": [
    "# Describe basic statistics (describe()).\n",
    "print(d4.describe())"
   ]
  },
  {
   "cell_type": "markdown",
   "id": "10b39018-9333-4d2c-ab69-999896b2f04c",
   "metadata": {},
   "source": [
    "# What .describe() shows you:\n",
    "- count → number of non-missing entries\n",
    "\n",
    "- mean → average value\n",
    "\n",
    "- std → standard deviation (spread of values)\n",
    "\n",
    "- min → minimum value\n",
    "\n",
    "- 25%, 50% (median), 75% → percentiles\n",
    "\n",
    "- max → maximum value\n",
    "\n",
    "- Useful for quickly understanding the spread and central values in your dataset!"
   ]
  },
  {
   "cell_type": "code",
   "execution_count": null,
   "id": "1265244b-a5fb-4614-bed0-eb62541623ea",
   "metadata": {},
   "outputs": [],
   "source": [
    "# Explore the types of fields (numerical, categorical)"
   ]
  },
  {
   "cell_type": "code",
   "execution_count": 12,
   "id": "4018c26d-675c-4f6b-8e03-cf9de6ca443b",
   "metadata": {},
   "outputs": [
    {
     "data": {
      "text/plain": [
       "Year                           int64\n",
       "Firm_Name                     object\n",
       "Total_Audit_Engagements        int64\n",
       "High_Risk_Cases                int64\n",
       "Compliance_Violations          int64\n",
       "Fraud_Cases_Detected           int64\n",
       "Industry_Affected             object\n",
       "Total_Revenue_Impact         float64\n",
       "AI_Used_for_Auditing          object\n",
       "Employee_Workload              int64\n",
       "Audit_Effectiveness_Score    float64\n",
       "Client_Satisfaction_Score    float64\n",
       "dtype: object"
      ]
     },
     "execution_count": 12,
     "metadata": {},
     "output_type": "execute_result"
    }
   ],
   "source": [
    "d4.dtypes"
   ]
  },
  {
   "cell_type": "markdown",
   "id": "eee53116-b4fd-42da-a611-ebb344da1025",
   "metadata": {},
   "source": [
    "# This tells you whether each column is:\n",
    "\n",
    "- int64, float64 : numerical data\n",
    "\n",
    "- object : text (categorical) data\n",
    "\n",
    "- datetime64 : date/time data (if any)"
   ]
  },
  {
   "cell_type": "markdown",
   "id": "3f9ec7c5-c1e5-4c34-a566-0f9881a9a969",
   "metadata": {},
   "source": [
    "# 2. Exploratory Data Analysis (EDA)"
   ]
  },
  {
   "cell_type": "markdown",
   "id": "baa6e7c7-ac05-4fd2-b7d5-3d3b96fc7363",
   "metadata": {},
   "source": [
    "Exploratory Data Analysis (EDA) is the first step you take after getting your data.\n",
    "It means exploring the dataset to:\n",
    "\n",
    "Understand what the data looks like\n",
    "- Find patterns\n",
    "\n",
    "- Detect mistakes or missing values\n",
    "\n",
    "- Discover relationships between variables\n",
    "\n",
    "- Get ideas for the next steps (like building a model) Basically, it's like \"getting to know your data\"\n",
    "before you do anything serious with it."
   ]
  },
  {
   "cell_type": "markdown",
   "id": "50127546-b9bc-4968-a318-b46aceb0715e",
   "metadata": {},
   "source": [
    "# Understand the general trends."
   ]
  },
  {
   "cell_type": "code",
   "execution_count": 14,
   "id": "854b0d55-022d-4955-9593-21844c14780b",
   "metadata": {},
   "outputs": [
    {
     "name": "stdout",
     "output_type": "stream",
     "text": [
      "Firm_Name\n",
      "Deloitte         30\n",
      "PwC              25\n",
      "Ernst & Young    23\n",
      "KPMG             22\n",
      "Name: count, dtype: int64\n"
     ]
    }
   ],
   "source": [
    "# which company appears the most?\n",
    "firm_counts = (d4[\"Firm_Name\"].value_counts())\n",
    "print(firm_counts)"
   ]
  },
  {
   "cell_type": "code",
   "execution_count": 24,
   "id": "6a9078cb-d004-4779-927b-12c006036990",
   "metadata": {},
   "outputs": [
    {
     "data": {
      "image/png": "[encoded data removed]",
      "text/plain": [
       "<Figure size 600x400 with 1 Axes>"
      ]
     },
     "metadata": {},
     "output_type": "display_data"
    }
   ],
   "source": [
    "# Create a bar chart\n",
    "plt.figure(figsize=(6,4)) \n",
    "bar = plt.bar(firm_counts.index, firm_counts.values,\n",
    "              color=\"cornflowerblue\", edgecolor=\"black\")\n",
    "plt.title(\"Top Firm with the Most Compliance Issues\")\n",
    "plt.xlabel(\"Firm\")\n",
    "plt.ylabel(\"Number of Compliance Issues\")\n",
    "plt.grid(axis=\"y\", linestyle=\"--\", alpha=0.7)\n",
    "plt.show()"
   ]
  },
  {
   "cell_type": "markdown",
   "id": "971a5509-4fe5-48d8-bb64-75f5ebdad5d4",
   "metadata": {},
   "source": [
    "# \tAnalyze risk cases across different companies or risk types"
   ]
  },
  {
   "cell_type": "code",
   "execution_count": 27,
   "id": "e4a764fe-89e2-4d84-a0f0-4f6cdce6ab96",
   "metadata": {},
   "outputs": [
    {
     "name": "stdout",
     "output_type": "stream",
     "text": [
      "Firm_Name\n",
      "KPMG             312.227273\n",
      "Deloitte         282.833333\n",
      "Ernst & Young    278.391304\n",
      "PwC              240.640000\n",
      "Name: High_Risk_Cases, dtype: float64\n"
     ]
    }
   ],
   "source": [
    "# Group by Firm_Name and calculate the avarage Risk_score\n",
    "firm_risk_avg = d4.groupby(\"Firm_Name\")[\"High_Risk_Cases\"].mean().sort_values(ascending=False)\n",
    "print(firm_risk_avg)"
   ]
  },
  {
   "cell_type": "code",
   "execution_count": 30,
   "id": "6ce0409c-ba04-4857-8cbd-ae7efeb02426",
   "metadata": {},
   "outputs": [
    {
     "data": {
      "image/png": "[encoded data removed]",
      "text/plain": [
       "<Figure size 800x400 with 1 Axes>"
      ]
     },
     "metadata": {},
     "output_type": "display_data"
    }
   ],
   "source": [
    "plt.figure(figsize=(8, 4))\n",
    "firm_risk_avg.plot(kind='bar', color='mediumseagreen', edgecolor='black')\n",
    "\n",
    "plt.title('Average Risk Score by Company', fontsize=18)\n",
    "plt.xlabel('Company', fontsize=14)\n",
    "plt.ylabel('Average Risk Score', fontsize=14)\n",
    "plt.xticks(rotation=45, ha='right')\n",
    "plt.grid(axis='y', linestyle='--', alpha=0.7)\n",
    "plt.show()"
   ]
  },
  {
   "cell_type": "code",
   "execution_count": null,
   "id": "f9ba3397-6dae-4b1a-9290-58a0801c200e",
   "metadata": {},
   "outputs": [],
   "source": []
  }
 ],
 "metadata": {
  "kernelspec": {
   "display_name": "Python 3 (ipykernel)",
   "language": "python",
   "name": "python3"
  },
  "language_info": {
   "codemirror_mode": {
    "name": "ipython",
    "version": 3
   },
   "file_extension": ".py",
   "mimetype": "text/x-python",
   "name": "python",
   "nbconvert_exporter": "python",
   "pygments_lexer": "ipython3",
   "version": "3.12.7"
  }
 },
 "nbformat": 4,
 "nbformat_minor": 5
}
